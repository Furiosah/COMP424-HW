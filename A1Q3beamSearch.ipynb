{
 "cells": [
  {
   "cell_type": "code",
   "execution_count": 250,
   "metadata": {},
   "outputs": [],
   "source": [
    "import math\n",
    "import matplotlib.pyplot as plt\n",
    "import random\n",
    "import numpy as np\n",
    "import pandas as pd"
   ]
  },
  {
   "cell_type": "code",
   "execution_count": 251,
   "metadata": {},
   "outputs": [],
   "source": [
    "size = 2\n",
    "step = 0.2"
   ]
  },
  {
   "cell_type": "code",
   "execution_count": 252,
   "metadata": {},
   "outputs": [],
   "source": [
    "def genRandom():\n",
    "    output = []\n",
    "    for i in range(100*size):\n",
    "        x,y = rd.uniform(0,10), rd.uniform(1,10)\n",
    "        output.append((x,y))\n",
    "        \n",
    "    return output"
   ]
  },
  {
   "cell_type": "code",
   "execution_count": 253,
   "metadata": {},
   "outputs": [],
   "source": [
    "output = genRandom()"
   ]
  },
  {
   "cell_type": "code",
   "execution_count": 254,
   "metadata": {},
   "outputs": [],
   "source": [
    "# def func2(x,y):\n",
    "#     return math.sin(2*x)+math.cos(y/2)\n",
    "\n",
    "def func2(x,y):\n",
    "    return abs(x - 2)+abs(0.5*y+1)-4"
   ]
  },
  {
   "cell_type": "code",
   "execution_count": 255,
   "metadata": {},
   "outputs": [],
   "source": [
    "# neighbour = [(x,min(y+step,10)),(x,max(y-step,0)),(min(x+step,10),min(y+step,10)),(min(x+step,10),max(y-step,0)),(max(0,x-step),min(y+step,10))\n",
    "#             (max(0,x-step),max(y-step,0)),(min(x+step,10),y),(max(0,x-step),y),(x,y)]"
   ]
  },
  {
   "cell_type": "code",
   "execution_count": null,
   "metadata": {},
   "outputs": [],
   "source": []
  },
  {
   "cell_type": "code",
   "execution_count": 256,
   "metadata": {},
   "outputs": [],
   "source": [
    "def maxi(current,step):\n",
    "    x = current[0]\n",
    "    y = current[1]\n",
    "    result = [func2(x,min(y+step,10)),func2(x,max(y-step,0)),func2(min(x+step,10),min(y+step,10)),\n",
    "                   func2(min(x+step,10),max(y-step,0)),func2(max(0,x-step),min(y+step,10)),func2(max(0,x-step),max(y-step,0)),func2(min(x+step,10),y),func2(max(0,x-step),y), func2(x,y)]\n",
    "    neighbour = [(x,min(y+step,10)),(x,max(y-step,0)),(min(x+step,10),min(y+step,10)),(min(x+step,10),max(y-step,0)),(max(0,x-step),min(y+step,10)),(max(0,x-step),max(y-step,0)),(min(x+step,10),y),(max(0,x-step),y),(x,y)]\n",
    "    return result,neighbour"
   ]
  },
  {
   "cell_type": "markdown",
   "metadata": {},
   "source": [
    "For beam width = 2"
   ]
  },
  {
   "cell_type": "code",
   "execution_count": 257,
   "metadata": {},
   "outputs": [],
   "source": [
    "def forall2(size, output):\n",
    "    \n",
    "    index = 0\n",
    "    current = [random.choice(output),random.choice(output)]\n",
    "    result0,neighbour0 = maxi(current[0], step)\n",
    "    result1,neighbour1 = maxi(current[1], step)\n",
    "    \n",
    "    for i in range(100):\n",
    "        temp = func2(current[0][0],current[0][1])\n",
    "        result = result0+result1\n",
    "        neighbour = neighbour0+neighbour1\n",
    "        beam = sorted(range(len(result)), key=lambda i: result[i])[-2:]\n",
    "        if abs(temp-result[beam[0]])< 0.00001:\n",
    "            index = i\n",
    "            break\n",
    "        else:\n",
    "            index = i\n",
    "            temp = max(result[beam[0]],result[beam[1]])\n",
    "            current = [neighbour[beam[0]], neighbour[beam[1]]]\n",
    "#             print(current)\n",
    "            result0,neighbour0 = maxi(current[0], step)\n",
    "            result1,neighbour1 = maxi(current[1], step)\n",
    "           \n",
    "#     endpoint.append(index)\n",
    "#     resultList.append(max(result[beam[0]],result[beam[1]]))\n",
    "    return index,max(result[beam[0]],result[beam[1]])"
   ]
  },
  {
   "cell_type": "code",
   "execution_count": 258,
   "metadata": {},
   "outputs": [],
   "source": [
    "def forall4(size, output):\n",
    "    \n",
    "    index = 0\n",
    "    current = [random.choice(output),random.choice(output),random.choice(output),random.choice(output)]\n",
    "    result0,neighbour0 = maxi(current[0], step)\n",
    "    result1,neighbour1 = maxi(current[1], step)\n",
    "    result2,neighbour2 = maxi(current[2], step)\n",
    "    result3,neighbour3 = maxi(current[3], step)\n",
    "   \n",
    "    for i in range(100):\n",
    "        temp = func2(current[0][0],current[0][1])\n",
    "        result = result0+result1+result2+result3\n",
    "        neighbour = neighbour0+neighbour1+neighbour2+neighbour3\n",
    "        beam = sorted(range(len(result)), key=lambda i: result[i])[-4:]\n",
    "        if abs(temp-result[beam[0]])< 0.00001:\n",
    "            index = i\n",
    "            break\n",
    "        else:\n",
    "            index = i\n",
    "            temp = max(result[beam[0]],result[beam[1]],result[beam[2]],result[beam[3]])\n",
    "            current = [neighbour[beam[0]], neighbour[beam[1]],neighbour[beam[2]],neighbour[beam[3]]]\n",
    "#             print(current)\n",
    "            result0,neighbour0 = maxi(current[0], step)\n",
    "            result1,neighbour1 = maxi(current[1], step)\n",
    "            result2,neighbour2 = maxi(current[2], step)\n",
    "            result3,neighbour3 = maxi(current[3], step)\n",
    "            \n",
    "#     endpoint.append(index)\n",
    "#     resultList.append(max(result[beam[0]],result[beam[1]]))\n",
    "    return index,max(result[beam[0]],result[beam[1]],result[beam[2]],result[beam[3]])"
   ]
  },
  {
   "cell_type": "code",
   "execution_count": 259,
   "metadata": {},
   "outputs": [],
   "source": [
    "def forall8(size, output):\n",
    "    \n",
    "    index = 0\n",
    "    current = [random.choice(output),random.choice(output),random.choice(output),random.choice(output),random.choice(output),random.choice(output),random.choice(output),random.choice(output)]\n",
    "    result0,neighbour0 = maxi(current[0], step)\n",
    "    result1,neighbour1 = maxi(current[1], step)\n",
    "    result2,neighbour2 = maxi(current[2], step)\n",
    "    result3,neighbour3 = maxi(current[3], step)\n",
    "    result4,neighbour4 = maxi(current[4], step)\n",
    "    result5,neighbour5 = maxi(current[5], step)\n",
    "    result6,neighbour6 = maxi(current[6], step)\n",
    "    result7,neighbour7 = maxi(current[7], step)\n",
    "    for i in range(100):\n",
    "        temp = func2(current[0][0],current[0][1])\n",
    "        result = result0+result1+result2+result3+result4+result5+result6+result7\n",
    "        neighbour = neighbour0+neighbour1+neighbour2+neighbour3+neighbour4+neighbour5+neighbour6+neighbour7\n",
    "        beam = sorted(range(len(result)), key=lambda i: result[i])[-8:]\n",
    "        if abs(temp-result[beam[0]])< 0.00001:\n",
    "            index = i\n",
    "            break\n",
    "        else:\n",
    "            index = i\n",
    "            temp = max(result[beam[0]],result[beam[1]],result[beam[2]],result[beam[3]],result[beam[4]],result[beam[5]],result[beam[6]],result[beam[7]])\n",
    "            current = [neighbour[beam[0]], neighbour[beam[1]],neighbour[beam[2]],neighbour[beam[3]],neighbour[beam[4]],neighbour[beam[5]],neighbour[beam[6]], neighbour[beam[7]]]\n",
    "#             print(current)\n",
    "            result0,neighbour0 = maxi(current[0], step)\n",
    "            result1,neighbour1 = maxi(current[1], step)\n",
    "            result2,neighbour2 = maxi(current[2], step)\n",
    "            result3,neighbour3 = maxi(current[3], step)\n",
    "            result4,neighbour4 = maxi(current[4], step)\n",
    "            result5,neighbour5 = maxi(current[5], step)\n",
    "            result6,neighbour6 = maxi(current[6], step)\n",
    "            result7,neighbour7 = maxi(current[7], step)\n",
    "#     endpoint.append(index)\n",
    "#     resultList.append(max(result[beam[0]],result[beam[1]]))\n",
    "    return index,max(result[beam[0]],result[beam[1]],result[beam[2]],result[beam[3]],result[beam[4]],result[beam[5]],result[beam[6]],result[beam[7]])"
   ]
  },
  {
   "cell_type": "code",
   "execution_count": 260,
   "metadata": {},
   "outputs": [],
   "source": [
    "def forall16(size, output):\n",
    "    \n",
    "    index = 0\n",
    "    current = [random.choice(output),random.choice(output),random.choice(output),random.choice(output),random.choice(output),random.choice(output),random.choice(output),random.choice(output),\n",
    "              random.choice(output),random.choice(output),random.choice(output),random.choice(output),random.choice(output),random.choice(output),random.choice(output),random.choice(output)]\n",
    "    result0,neighbour0 = maxi(current[0], step)\n",
    "    result1,neighbour1 = maxi(current[1], step)\n",
    "    result2,neighbour2 = maxi(current[2], step)\n",
    "    result3,neighbour3 = maxi(current[3], step)\n",
    "    result4,neighbour4 = maxi(current[4], step)\n",
    "    result5,neighbour5 = maxi(current[5], step)\n",
    "    result6,neighbour6 = maxi(current[6], step)\n",
    "    result7,neighbour7 = maxi(current[7], step)\n",
    "    result8,neighbour8 = maxi(current[8], step)\n",
    "    result9,neighbour9 = maxi(current[9], step)\n",
    "    result10,neighbour10 = maxi(current[10], step)\n",
    "    result11,neighbour11= maxi(current[11], step)\n",
    "    result12,neighbour12 = maxi(current[12], step)\n",
    "    result13,neighbour13 = maxi(current[13], step)\n",
    "    result14,neighbour14 = maxi(current[14], step)\n",
    "    result15,neighbour15 = maxi(current[15], step)\n",
    "    for i in range(100):\n",
    "        temp = func2(current[0][0],current[0][1])\n",
    "        result = result0+result1+result2+result3+result4+result5+result6+result7+result8+result9+result10+result11+result12+result13+result14+result15\n",
    "        neighbour = neighbour0+neighbour1+neighbour2+neighbour3+neighbour4+neighbour5+neighbour6+neighbour7+neighbour8+neighbour9+neighbour10+neighbour11+neighbour12+neighbour13+neighbour14+neighbour15\n",
    "        beam = sorted(range(len(result)), key=lambda i: result[i])[-16:]\n",
    "        if abs(temp-result[beam[0]])< 0.00001:\n",
    "            index = i\n",
    "            break\n",
    "        else:\n",
    "            index = i\n",
    "            temp = max(result[beam[0]],result[beam[1]],result[beam[2]],result[beam[3]],result[beam[4]],result[beam[5]],result[beam[6]],result[beam[7]],\n",
    "                      result[beam[8]],result[beam[9]],result[beam[10]],result[beam[11]],result[beam[12]],result[beam[13]],result[beam[14]],result[beam[15]])\n",
    "            current = [neighbour[beam[0]], neighbour[beam[1]],neighbour[beam[2]],neighbour[beam[3]],neighbour[beam[4]],neighbour[beam[5]],neighbour[beam[6]], neighbour[beam[7]],\n",
    "                      neighbour[beam[8]], neighbour[beam[9]],neighbour[beam[10]],neighbour[beam[11]],neighbour[beam[12]],neighbour[beam[13]],neighbour[beam[14]], neighbour[beam[15]]]\n",
    "#             print(current)\n",
    "            result0,neighbour0 = maxi(current[0], step)\n",
    "            result1,neighbour1 = maxi(current[1], step)\n",
    "            result2,neighbour2 = maxi(current[2], step)\n",
    "            result3,neighbour3 = maxi(current[3], step)\n",
    "            result4,neighbour4 = maxi(current[4], step)\n",
    "            result5,neighbour5 = maxi(current[5], step)\n",
    "            result6,neighbour6 = maxi(current[6], step)\n",
    "            result7,neighbour7 = maxi(current[7], step)\n",
    "            result8,neighbour8 = maxi(current[8], step)\n",
    "            result9,neighbour9 = maxi(current[9], step)\n",
    "            result10,neighbour10 = maxi(current[10], step)\n",
    "            result11,neighbour11= maxi(current[11], step)\n",
    "            result12,neighbour12 = maxi(current[12], step)\n",
    "            result13,neighbour13 = maxi(current[13], step)\n",
    "            result14,neighbour14 = maxi(current[14], step)\n",
    "            result15,neighbour15 = maxi(current[15], step)\n",
    "#     endpoint.append(index)\n",
    "#     resultList.append(max(result[beam[0]],result[beam[1]]))\n",
    "    return index,max(result[beam[0]],result[beam[1]],result[beam[2]],result[beam[3]],result[beam[4]],result[beam[5]],result[beam[6]],result[beam[7]],\n",
    "                    result[beam[8]],result[beam[9]],result[beam[10]],result[beam[11]],result[beam[12]],result[beam[13]],result[beam[14]],result[beam[15]])"
   ]
  },
  {
   "cell_type": "code",
   "execution_count": 276,
   "metadata": {},
   "outputs": [],
   "source": [
    "endpoint=[]\n",
    "resultList=[]\n",
    "for i in range(100):\n",
    "    end,result = forall16(16,output)\n",
    "    endpoint.append(end)\n",
    "    resultList.append(result)"
   ]
  },
  {
   "cell_type": "code",
   "execution_count": 277,
   "metadata": {},
   "outputs": [],
   "source": [
    "# endpoint,result = forall(2,output)"
   ]
  },
  {
   "cell_type": "code",
   "execution_count": 278,
   "metadata": {},
   "outputs": [
    {
     "name": "stdout",
     "output_type": "stream",
     "text": [
      "[14, 9, 11, 27, 6, 30, 8, 19, 14, 10, 19, 27, 6, 16, 26, 9, 15, 12, 8, 19, 11, 21, 8, 11, 26, 15, 11, 8, 10, 19, 6, 8, 11, 8, 19, 15, 8, 14, 9, 19, 7, 10, 27, 9, 9, 8, 22, 21, 10, 6, 14, 6, 19, 15, 8, 15, 6, 7, 9, 9, 7, 7, 6, 20, 23, 17, 19, 19, 6, 11, 8, 9, 19, 19, 8, 7, 19, 19, 6, 0, 20, 10, 6, 19, 11, 11, 15, 7, 7, 9, 14, 8, 20, 10, 10, 26, 6, 6, 19, 15] [10.0, 10.0, 10.0, 10.0, 10.0, 10.0, 10.0, 10.0, 10.0, 10.0, 10.0, 10.0, 10.0, 10.0, 10.0, 10.0, 10.0, 10.0, 10.0, 10.0, 10.0, 10.0, 10.0, 10.0, 10.0, 10.0, 10.0, 10.0, 10.0, 10.0, 10.0, 10.0, 10.0, 10.0, 10.0, 10.0, 10.0, 10.0, 10.0, 10.0, 10.0, 10.0, 10.0, 10.0, 10.0, 10.0, 10.0, 10.0, 10.0, 10.0, 10.0, 10.0, 10.0, 10.0, 10.0, 10.0, 10.0, 10.0, 10.0, 10.0, 10.0, 10.0, 10.0, 10.0, 10.0, 10.0, 10.0, 10.0, 10.0, 10.0, 10.0, 10.0, 10.0, 10.0, 10.0, 10.0, 10.0, 10.0, 10.0, 8.24438405171225, 10.0, 10.0, 10.0, 10.0, 10.0, 10.0, 10.0, 10.0, 10.0, 10.0, 10.0, 10.0, 10.0, 10.0, 10.0, 10.0, 10.0, 10.0, 10.0, 10.0]\n"
     ]
    }
   ],
   "source": [
    "print(endpoint,resultList)"
   ]
  },
  {
   "cell_type": "code",
   "execution_count": 279,
   "metadata": {},
   "outputs": [],
   "source": [
    "std = np.std(endpoint)\n",
    "mean = np.mean(endpoint)\n",
    "finalValue = np.mean(resultList)"
   ]
  },
  {
   "cell_type": "code",
   "execution_count": 280,
   "metadata": {},
   "outputs": [
    {
     "name": "stdout",
     "output_type": "stream",
     "text": [
      "6.3141982864018456 12.97 9.982443840517123\n"
     ]
    }
   ],
   "source": [
    "print(std, mean, finalValue)"
   ]
  },
  {
   "cell_type": "markdown",
   "metadata": {},
   "source": [
    "For step size = 0.2, we evaluate function 1 with beam width = 2, std = 7.927445994770321, mean = 13.34, it converges to 1.742540676483165.\n",
    "\n",
    "beam width = 4, std =6.064354870882806, mean = 11.06, it converges to 1.805674084392623.\n",
    "\n",
    "beam width = 8, std = 3.9250350316908, mean = 10.29, it converges to 1.9128203988098733.\n",
    "\n",
    "beam width = 16, std = 2.375268405885954, mean = 9.09, it converges to 1.9800439218769461."
   ]
  },
  {
   "cell_type": "code",
   "execution_count": 281,
   "metadata": {},
   "outputs": [],
   "source": [
    "# x = [2,4,8,16]\n",
    "# y = [13.34,11.06, 10.29,9.09]\n",
    "# e = [7.927445994770321,6.064354870882806,3.9250350316908,2.375268405885954]\n",
    "# plt.errorbar(x, y, e, linestyle='None', marker='^')"
   ]
  },
  {
   "cell_type": "markdown",
   "metadata": {},
   "source": [
    "For step size = 0.2, we evaluate function 2 with beam width = 2, std = 10.855671328849265, mean = 26.12, it converges to 9.64.\n",
    "\n",
    "beam width = 4, std = 9.629636545581562, mean = 20.01, it converges to 9.94.\n",
    "\n",
    "beam width = 8, std = 8.557429520597875, mean = 16.48, it converges to 10.\n",
    "\n",
    "beam width = 16, std = 6.3141982864018456, mean = 12.97, it converges to 10."
   ]
  },
  {
   "cell_type": "code",
   "execution_count": 282,
   "metadata": {},
   "outputs": [
    {
     "data": {
      "text/plain": [
       "<ErrorbarContainer object of 3 artists>"
      ]
     },
     "execution_count": 282,
     "metadata": {},
     "output_type": "execute_result"
    },
    {
     "data": {
      "image/png": "[encoded data removed]",
      "text/plain": [
       "<Figure size 432x288 with 1 Axes>"
      ]
     },
     "metadata": {
      "needs_background": "light"
     },
     "output_type": "display_data"
    }
   ],
   "source": [
    "x = [2,4,8,16]\n",
    "y = [26.12,20.01,16.48,12.97]\n",
    "e = [10.855671328849265,9.629636545581562,8.557429520597875,6.3141982864018456]\n",
    "plt.errorbar(x, y, e, linestyle='None', marker='^')"
   ]
  },
  {
   "cell_type": "code",
   "execution_count": 44,
   "metadata": {},
   "outputs": [],
   "source": [
    "a = [1,2,3,8,6,9,12,0]"
   ]
  },
  {
   "cell_type": "code",
   "execution_count": 45,
   "metadata": {},
   "outputs": [
    {
     "data": {
      "text/plain": [
       "[5, 6]"
      ]
     },
     "execution_count": 45,
     "metadata": {},
     "output_type": "execute_result"
    }
   ],
   "source": [
    "sorted(range(len(a)), key=lambda i: a[i])[-2:]\n",
    "\n"
   ]
  },
  {
   "cell_type": "code",
   "execution_count": null,
   "metadata": {},
   "outputs": [],
   "source": []
  }
 ],
 "metadata": {
  "kernelspec": {
   "display_name": "Python 3",
   "language": "python",
   "name": "python3"
  },
  "language_info": {
   "codemirror_mode": {
    "name": "ipython",
    "version": 3
   },
   "file_extension": ".py",
   "mimetype": "text/x-python",
   "name": "python",
   "nbconvert_exporter": "python",
   "pygments_lexer": "ipython3",
   "version": "3.7.3"
  }
 },
 "nbformat": 4,
 "nbformat_minor": 2
}
