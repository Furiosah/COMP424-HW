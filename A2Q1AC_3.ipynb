{
  "nbformat": 4,
  "nbformat_minor": 0,
  "metadata": {
    "colab": {
      "name": "A2Q1AC-3.ipynb",
      "provenance": [],
      "authorship_tag": "ABX9TyP96GFrjcm6PiRQbQFGTXbB",
      "include_colab_link": true
    },
    "kernelspec": {
      "name": "python3",
      "display_name": "Python 3"
    }
  },
  "cells": [
    {
      "cell_type": "markdown",
      "metadata": {
        "id": "view-in-github",
        "colab_type": "text"
      },
      "source": [
        "<a href=\"https://colab.research.google.com/github/Furiosah/COMP424-HW/blob/master/A2Q1AC_3.ipynb\" target=\"_parent\"><img src=\"https://colab.research.google.com/assets/colab-badge.svg\" alt=\"Open In Colab\"/></a>"
      ]
    },
    {
      "cell_type": "code",
      "metadata": {
        "id": "Xt_7DoUeiivi",
        "colab_type": "code",
        "colab": {}
      },
      "source": [
        "class Variable:\n",
        "    name = ''\n",
        "    value = 0\n",
        "    domain = []\n",
        "\n",
        "    def __init__(self, name, value, domain):\n",
        "        self.name = name\n",
        "        self.value = value\n",
        "        self.domain = domain\n",
        "    \n",
        "    def equal(self, v2):\n",
        "        return self.name==v2.name and self.value==v2.value and self.domain==v2.domain\n",
        "\n",
        "\n",
        "class Constraint:\n",
        "    v1 = None\n",
        "    v2 = None\n",
        "    f = None\n",
        "\n",
        "    def __init__(self, v1, v2, f):\n",
        "        self.v1 = v1\n",
        "        self.v2 = v2\n",
        "        self.f = f\n",
        "    \n",
        "    def __str__(self):\n",
        "        return f'({self.v1.name}, {self.v2.name}) - {self.f.__name__}'\n",
        "\n",
        "    def equal(self, c2):\n",
        "        return self.v1.equal(c2.v2) and self.v2.equal( c2.v2)\n",
        "\n",
        "\n"
      ],
      "execution_count": 0,
      "outputs": []
    },
    {
      "cell_type": "code",
      "metadata": {
        "id": "sG1wvKwUyoZL",
        "colab_type": "code",
        "colab": {}
      },
      "source": [
        "K1 = Variable('K1', None, [1,2,3,4])\n",
        "K2 = Variable('K2', None, [1,2,3,4])\n",
        "Q1 = Variable('Q1', None, [1,2,3,4])\n",
        "Q2 = Variable('Q2', None, [1,2,3,4])"
      ],
      "execution_count": 0,
      "outputs": []
    },
    {
      "cell_type": "code",
      "metadata": {
        "id": "yC8oddE-GPb7",
        "colab_type": "code",
        "colab": {}
      },
      "source": [
        "def arcK(k1,k2):\n",
        "  return not (k1-k2==abs(2))\n",
        "\n",
        "def arckq2(k,q):\n",
        "  return (abs(k-q)==3)\n",
        "\n",
        "def arckq1(k,q):\n",
        "  return (k!=q and (k!=q+3 or k!=q-3))\n",
        "\n",
        "def arcQ(q1,q2):\n",
        "  return (q1!=q2 and (q1!=q2+1 or q1!=q2-1))\n",
        "\n",
        "\n"
      ],
      "execution_count": 0,
      "outputs": []
    },
    {
      "cell_type": "code",
      "metadata": {
        "id": "V2Lqw9qtL106",
        "colab_type": "code",
        "colab": {}
      },
      "source": [
        "c1 = Constraint(K1, K2, arcK)\n",
        "c2 = Constraint(K2, K1, arcK) \n",
        "c3 = Constraint(K1, Q1, arckq2)\n",
        "c4 = Constraint(Q1, K1, arckq2)\n",
        "c5 = Constraint(K1, Q2, arckq1)\n",
        "c6 = Constraint(Q2, K1, arckq1)\n",
        "c7 = Constraint(K2, Q1, arckq2)\n",
        "c8 = Constraint(Q1, K2, arckq2)\n",
        "c9 = Constraint(K2, Q2, arckq2)\n",
        "c10 = Constraint(Q2, K2, arckq2)\n",
        "c11 = Constraint(Q1, Q2, arcQ)\n",
        "c12 = Constraint(Q2, Q1, arcQ)\n"
      ],
      "execution_count": 0,
      "outputs": []
    },
    {
      "cell_type": "code",
      "metadata": {
        "id": "cfgFR9g7mSiO",
        "colab_type": "code",
        "colab": {}
      },
      "source": [
        "arc = [c1,c2,c3,c4,c5,c6,c7,c8,c9,c10,c11,c12]"
      ],
      "execution_count": 0,
      "outputs": []
    },
    {
      "cell_type": "code",
      "metadata": {
        "id": "m6hd7_kVy1PG",
        "colab_type": "code",
        "colab": {}
      },
      "source": [
        "template = [c1,c2,c3,c4,c5,c6,c7,c8,c9,c10,c11,c12]"
      ],
      "execution_count": 0,
      "outputs": []
    },
    {
      "cell_type": "code",
      "metadata": {
        "id": "4rFHMfSI0Kld",
        "colab_type": "code",
        "colab": {}
      },
      "source": [
        "def notin(a, arcs):\n",
        "  boo = True\n",
        "  for arc in arcs:\n",
        "    if a.equal(arc):\n",
        "      boo = False\n",
        "  return boo\n",
        "\n"
      ],
      "execution_count": 0,
      "outputs": []
    },
    {
      "cell_type": "code",
      "metadata": {
        "id": "x_KIaSulmbAa",
        "colab_type": "code",
        "colab": {
          "base_uri": "https://localhost:8080/",
          "height": 1000
        },
        "outputId": "9fe23e0d-93c8-4526-bf00-3537a45bfd0a"
      },
      "source": [
        "while len(arc)>0:\n",
        "  temp = arc.pop(0)\n",
        "  print(f'constraint satisfied: {temp}\\n')\n",
        "  changed = False\n",
        "  remove = []\n",
        "  for x in temp.v1.domain:\n",
        "    right = False\n",
        "    for y in temp.v2.domain:\n",
        "      if temp.f(x,y):\n",
        "        right = True\n",
        "    if not right:\n",
        "      remove.append(x)\n",
        "      changed = True\n",
        "  for i in remove:\n",
        "    temp.v1.domain.remove(i)\n",
        "  if len(temp.v1.domain)==0:\n",
        "    print(\"no solution\")\n",
        "    break\n",
        "  if changed:\n",
        "    print(\"constraint does not satisfy here: new domain\",temp.v1.domain, '\\n')\n",
        "    print('updated worklist:')\n",
        "    for i in arc:\n",
        "      print(f'{i},')\n",
        "    toappend=[]\n",
        "    for a in template:\n",
        "      if a.v2 ==temp.v1 and a.v1 != temp.v2 and notin(a, arc):\n",
        "        # a.v2.domain=temp.v1.domain\n",
        "          toappend.append(a)\n",
        "    arc += toappend\n",
        "\n",
        "\n"
      ],
      "execution_count": 197,
      "outputs": [
        {
          "output_type": "stream",
          "text": [
            "constraint satisfied: (K1, K2) - arcK\n",
            "\n",
            "constraint satisfied: (K2, K1) - arcK\n",
            "\n",
            "constraint satisfied: (K1, Q1) - arckq2\n",
            "\n",
            "constraint does not satisfy here: new domain [1, 4] \n",
            "\n",
            "updated worklist:\n",
            "(Q1, K1) - arckq2,\n",
            "(K1, Q2) - arckq1,\n",
            "(Q2, K1) - arckq1,\n",
            "(K2, Q1) - arckq2,\n",
            "(Q1, K2) - arckq2,\n",
            "(K2, Q2) - arckq2,\n",
            "(Q2, K2) - arckq2,\n",
            "(Q1, Q2) - arcQ,\n",
            "(Q2, Q1) - arcQ,\n",
            "constraint satisfied: (Q1, K1) - arckq2\n",
            "\n",
            "constraint does not satisfy here: new domain [1, 4] \n",
            "\n",
            "updated worklist:\n",
            "(K1, Q2) - arckq1,\n",
            "(Q2, K1) - arckq1,\n",
            "(K2, Q1) - arckq2,\n",
            "(Q1, K2) - arckq2,\n",
            "(K2, Q2) - arckq2,\n",
            "(Q2, K2) - arckq2,\n",
            "(Q1, Q2) - arcQ,\n",
            "(Q2, Q1) - arcQ,\n",
            "(K2, K1) - arcK,\n",
            "(Q2, K1) - arckq1,\n",
            "constraint satisfied: (K1, Q2) - arckq1\n",
            "\n",
            "constraint satisfied: (Q2, K1) - arckq1\n",
            "\n",
            "constraint satisfied: (K2, Q1) - arckq2\n",
            "\n",
            "constraint does not satisfy here: new domain [1, 4] \n",
            "\n",
            "updated worklist:\n",
            "(Q1, K2) - arckq2,\n",
            "(K2, Q2) - arckq2,\n",
            "(Q2, K2) - arckq2,\n",
            "(Q1, Q2) - arcQ,\n",
            "(Q2, Q1) - arcQ,\n",
            "(K2, K1) - arcK,\n",
            "(Q2, K1) - arckq1,\n",
            "(K2, Q1) - arckq2,\n",
            "(Q2, Q1) - arcQ,\n",
            "constraint satisfied: (Q1, K2) - arckq2\n",
            "\n",
            "constraint satisfied: (K2, Q2) - arckq2\n",
            "\n",
            "constraint satisfied: (Q2, K2) - arckq2\n",
            "\n",
            "constraint does not satisfy here: new domain [1, 4] \n",
            "\n",
            "updated worklist:\n",
            "(Q1, Q2) - arcQ,\n",
            "(Q2, Q1) - arcQ,\n",
            "(K2, K1) - arcK,\n",
            "(Q2, K1) - arckq1,\n",
            "(K2, Q1) - arckq2,\n",
            "(Q2, Q1) - arcQ,\n",
            "(K1, K2) - arcK,\n",
            "(Q2, K2) - arckq2,\n",
            "constraint satisfied: (Q1, Q2) - arcQ\n",
            "\n",
            "constraint satisfied: (Q2, Q1) - arcQ\n",
            "\n",
            "constraint satisfied: (K2, K1) - arcK\n",
            "\n",
            "constraint satisfied: (Q2, K1) - arckq1\n",
            "\n",
            "constraint satisfied: (K2, Q1) - arckq2\n",
            "\n",
            "constraint satisfied: (Q2, Q1) - arcQ\n",
            "\n",
            "constraint satisfied: (K1, K2) - arcK\n",
            "\n",
            "constraint satisfied: (Q2, K2) - arckq2\n",
            "\n",
            "constraint satisfied: (K1, Q2) - arckq1\n",
            "\n",
            "constraint satisfied: (Q1, Q2) - arcQ\n",
            "\n"
          ],
          "name": "stdout"
        }
      ]
    },
    {
      "cell_type": "code",
      "metadata": {
        "id": "_-BtQKtirahJ",
        "colab_type": "code",
        "colab": {
          "base_uri": "https://localhost:8080/",
          "height": 85
        },
        "outputId": "ad290ca7-f4c6-430e-a344-93af25ae081e"
      },
      "source": [
        "print(K1.domain)\n",
        "print(K2.domain)\n",
        "print(Q1.domain)\n",
        "print(Q2.domain)"
      ],
      "execution_count": 198,
      "outputs": [
        {
          "output_type": "stream",
          "text": [
            "[1, 4]\n",
            "[1, 4]\n",
            "[1, 4]\n",
            "[1, 4]\n"
          ],
          "name": "stdout"
        }
      ]
    }
  ]
}