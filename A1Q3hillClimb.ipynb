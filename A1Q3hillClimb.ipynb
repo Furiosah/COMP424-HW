{
 "cells": [
  {
   "cell_type": "code",
   "execution_count": 409,
   "metadata": {},
   "outputs": [],
   "source": [
    "import math\n",
    "import matplotlib.pyplot as plt\n",
    "import random as rd\n",
    "import numpy as np\n",
    "import pandas as pd"
   ]
  },
  {
   "cell_type": "code",
   "execution_count": 410,
   "metadata": {},
   "outputs": [],
   "source": [
    "def genRandom():\n",
    "    \n",
    "    output = []\n",
    "    for i in range(100):\n",
    "        x,y = rd.uniform(0,10), rd.uniform(1,10)\n",
    "        output.append((x,y))\n",
    "        \n",
    "    return output"
   ]
  },
  {
   "cell_type": "code",
   "execution_count": 411,
   "metadata": {},
   "outputs": [],
   "source": [
    "output = genRandom()"
   ]
  },
  {
   "cell_type": "code",
   "execution_count": 412,
   "metadata": {},
   "outputs": [],
   "source": [
    "step = 0.2"
   ]
  },
  {
   "cell_type": "code",
   "execution_count": 413,
   "metadata": {},
   "outputs": [],
   "source": [
    "# def func2(x,y):\n",
    "#     return math.sin(2*x)+math.cos(y/2)\n",
    "\n",
    "def func2(x,y):\n",
    "    return abs(x - 2)+abs(0.5*y+1)-4"
   ]
  },
  {
   "cell_type": "markdown",
   "metadata": {},
   "source": [
    "The following is the function that looks for maxi. neighbour and update neighbours"
   ]
  },
  {
   "cell_type": "code",
   "execution_count": 414,
   "metadata": {},
   "outputs": [],
   "source": [
    "def maxi(current, step):\n",
    "    x = current[0]\n",
    "    y = current[1]\n",
    "    neighbour = np.argmax([func2(x,min(y+step,10)),func2(x,max(y-step,0)),func2(min(x+step,10),min(y+step,10)),\n",
    "                   func2(min(x+step,10),max(y-step,0)),func2(max(0,x-step),min(y+step,10)),func2(max(0,x-step),max(y-step,0)),func2(min(x+step,10),y),func2(max(0,x-step),y), func2(x,y)])\n",
    "    result = np.amax([func2(x,min(y+step,10)),func2(x,max(y-step,0)),func2(min(x+step,10),min(y+step,10)),\n",
    "                   func2(min(x+step,10),max(y-step,0)),func2(max(0,x-step),min(y+step,10)),func2(max(0,x-step),max(y-step,0)),func2(min(x+step,10),y),func2(max(0,x-step),y), func2(x,y)])\n",
    "    if neighbour== 0:\n",
    "        return (x,min(y+step,10)),result\n",
    "    elif neighbour == 1:\n",
    "        return (x,max(y-step,0)),result\n",
    "    elif neighbour ==2:\n",
    "        return (min(x+step,10),min(y+step,10)),result\n",
    "    elif neighbour ==3:\n",
    "        return (min(x+step,10),max(y-step,0)),result\n",
    "    elif neighbour ==4:\n",
    "        return (max(0,x-step),min(y+step,10)),result\n",
    "    elif neighbour ==5:\n",
    "        return (max(0,x-step),max(y-step,0)),result\n",
    "    elif neighbour ==6:\n",
    "        return (min(x+step,10),y),result\n",
    "    elif neighbour ==7:\n",
    "        return (max(0,x-step),y),result\n",
    "    else:\n",
    "        return (x,y),result\n",
    "\n",
    "   "
   ]
  },
  {
   "cell_type": "code",
   "execution_count": 415,
   "metadata": {},
   "outputs": [],
   "source": [
    "def forall(output):\n",
    "    endpoint=[]\n",
    "    resultList = []\n",
    "    index = 0\n",
    "    for current in output:\n",
    "        for i in range(1000):\n",
    "            index = 0\n",
    "            result = func2(current[0],current[1])\n",
    "            current,new_result = maxi(current, step)\n",
    "            if abs(new_result-result) < 0.00001:\n",
    "                index = i\n",
    "                break\n",
    "            else:\n",
    "                index = i\n",
    "                new_result = result\n",
    "        endpoint.append(index)\n",
    "        resultList.append(result)\n",
    "    return endpoint, resultList"
   ]
  },
  {
   "cell_type": "code",
   "execution_count": 416,
   "metadata": {},
   "outputs": [],
   "source": [
    "endpoint,result = forall(output)"
   ]
  },
  {
   "cell_type": "code",
   "execution_count": 417,
   "metadata": {},
   "outputs": [
    {
     "name": "stdout",
     "output_type": "stream",
     "text": [
      "[4, 36, 44, 13, 34, 16, 33, 44, 23, 22, 11, 43, 13, 28, 5, 35, 26, 33, 41, 9, 24, 10, 3, 28, 37, 35, 43, 40, 6, 16, 39, 36, 29, 40, 40, 37, 32, 24, 30, 35, 20, 44, 38, 42, 31, 32, 38, 26, 22, 28, 37, 20, 29, 38, 39, 45, 16, 36, 6, 37, 30, 35, 29, 13, 39, 37, 33, 32, 21, 21, 17, 31, 32, 34, 19, 7, 34, 44, 27, 26, 39, 36, 9, 29, 34, 38, 31, 22, 25, 26, 38, 7, 29, 37, 32, 33, 39, 34, 37, 40] [4.0, 10.0, 10.0, 4.0, 10.0, 10.0, 4.0, 10.0, 4.0, 10.0, 10.0, 10.0, 4.0, 10.0, 4.0, 10.0, 10.0, 10.0, 10.0, 4.0, 10.0, 4.0, 10.0, 10.0, 4.0, 10.0, 10.0, 10.0, 10.0, 10.0, 10.0, 10.0, 10.0, 10.0, 10.0, 10.0, 4.0, 10.0, 10.0, 10.0, 4.0, 10.0, 10.0, 10.0, 10.0, 10.0, 10.0, 10.0, 10.0, 10.0, 4.0, 4.0, 10.0, 10.0, 10.0, 10.0, 10.0, 4.0, 4.0, 10.0, 4.0, 10.0, 10.0, 10.0, 10.0, 10.0, 10.0, 10.0, 10.0, 10.0, 10.0, 10.0, 10.0, 10.0, 10.0, 4.0, 10.0, 10.0, 10.0, 10.0, 10.0, 10.0, 10.0, 10.0, 10.0, 10.0, 10.0, 10.0, 10.0, 10.0, 4.0, 10.0, 10.0, 10.0, 10.0, 4.0, 10.0, 10.0, 10.0, 4.0]\n"
     ]
    }
   ],
   "source": [
    "print(endpoint,result)"
   ]
  },
  {
   "cell_type": "code",
   "execution_count": 418,
   "metadata": {},
   "outputs": [],
   "source": [
    "std = np.std(endpoint)\n",
    "mean = np.mean(endpoint)\n",
    "finalValue = np.mean(result)"
   ]
  },
  {
   "cell_type": "code",
   "execution_count": 419,
   "metadata": {},
   "outputs": [
    {
     "name": "stdout",
     "output_type": "stream",
     "text": [
      "10.851225737215128 28.97 8.8\n"
     ]
    }
   ],
   "source": [
    "print(std, mean, finalValue)"
   ]
  },
  {
   "cell_type": "markdown",
   "metadata": {},
   "source": [
    "From the data I collected, function 1 with step size 0.01 has endpoint with std = 165.03865486606466 mean = 304.32, and it converges to 1.6788993808283763. \n",
    "\n",
    "step size = 0.05 has endpoint with std = 27.246054760276767 mean = 56.05, and it converges to 1.7359389093823143.\n",
    "\n",
    "\n",
    "step size = 0.1 has endpoint with std =15.29301801476739  mean = 29.06 , and it converges to 1.6788993808283763.\n",
    "\n",
    "step size = 0.2 has endpoint with std = 7.124015721487425 mean = 19.84 , and it converges to 1.7027377457720345.\n",
    "\n",
    "\n",
    "## Visualization"
   ]
  },
  {
   "cell_type": "code",
   "execution_count": 407,
   "metadata": {},
   "outputs": [],
   "source": [
    "# x = [0.01,0.05,0.1,0.2]\n",
    "# y = [304.32,56.05,29.06,14.78]\n",
    "# e = [165.03865486606466,27.246054760276767,15.29301801476739,7.124015721487425]\n",
    "# plt.errorbar(x, y, e, linestyle='None', marker='^')"
   ]
  },
  {
   "cell_type": "markdown",
   "metadata": {},
   "source": [
    "From the data I collected, function 2 with step size 0.01 has endpoint with std = 223.41355733258445 mean = 610.68 , and it converges to -2.9976678550226366 . \n",
    "\n",
    "step size = 0.05 has endpoint with std = 44.88970817459164 mean = 119.79, and it converges to -2.9877674470213584.\n",
    "\n",
    "\n",
    "step size = 0.1 has endpoint with std =23.95704489289111  mean = 61.4 , and it converges to -2.97555916887661.\n",
    "\n",
    "step size = 0.2 has endpoint with std = 10.38311610259656 mean = 31.97 , and it converges to -2.950128048919525.\n",
    "\n",
    "\n",
    "## Visualization"
   ]
  },
  {
   "cell_type": "code",
   "execution_count": 408,
   "metadata": {},
   "outputs": [
    {
     "data": {
      "text/plain": [
       "<ErrorbarContainer object of 3 artists>"
      ]
     },
     "execution_count": 408,
     "metadata": {},
     "output_type": "execute_result"
    },
    {
     "data": {
      "image/png": "[encoded data removed]",
      "text/plain": [
       "<Figure size 432x288 with 1 Axes>"
      ]
     },
     "metadata": {
      "needs_background": "light"
     },
     "output_type": "display_data"
    }
   ],
   "source": [
    "x = [0.01,0.05,0.1,0.2]\n",
    "y = [610.68,119.79,61.4,31.97 ]\n",
    "e = [223.41355733258445,44.88970817459164,23.95704489289111,10.38311610259656]\n",
    "plt.errorbar(x, y, e, linestyle='None', marker='^')"
   ]
  },
  {
   "cell_type": "code",
   "execution_count": null,
   "metadata": {},
   "outputs": [],
   "source": []
  }
 ],
 "metadata": {
  "kernelspec": {
   "display_name": "Python 3",
   "language": "python",
   "name": "python3"
  },
  "language_info": {
   "codemirror_mode": {
    "name": "ipython",
    "version": 3
   },
   "file_extension": ".py",
   "mimetype": "text/x-python",
   "name": "python",
   "nbconvert_exporter": "python",
   "pygments_lexer": "ipython3",
   "version": "3.7.3"
  }
 },
 "nbformat": 4,
 "nbformat_minor": 2
}
